{
 "cells": [
  {
   "cell_type": "markdown",
   "id": "05948314",
   "metadata": {},
   "source": [
    "# Function"
   ]
  },
  {
   "cell_type": "markdown",
   "id": "3b68247e",
   "metadata": {},
   "source": [
    "## Function(hàm) là gì?"
   ]
  },
  {
   "cell_type": "markdown",
   "id": "cf84a685",
   "metadata": {},
   "source": [
    "Hàm (function) là một khối lệnh đặc biệt, nó được đặt tên, giúp mã chương trình dễ đọc hơn, và có thể gọi để sử dụng ở các nơi khác nhau trong chương trình. Hàm chính là khối lệnh có thể tái sử dụng (reuseable)."
   ]
  },
  {
   "cell_type": "markdown",
   "id": "3636c8b1",
   "metadata": {},
   "source": [
    "### Hàm\n",
    "\n",
    "Cú pháp:\n",
    "\n",
    "`def <tên hàm>(<tham số)>:\n",
    "    //Nội dung hàm`\n",
    "\n",
    "Gọi hàm:\n",
    "`<tên hàm>(<giá trị đầu vào>)`"
   ]
  },
  {
   "cell_type": "markdown",
   "id": "18f95aa8",
   "metadata": {},
   "source": [
    "### Ví dụ: Hàm in"
   ]
  },
  {
   "cell_type": "code",
   "execution_count": null,
   "id": "0753ca43",
   "metadata": {},
   "outputs": [],
   "source": [
    "print()"
   ]
  },
  {
   "cell_type": "markdown",
   "id": "29c55e2b",
   "metadata": {},
   "source": [
    "### Ví dụ: Hàm tính giá trị tuyệt đối"
   ]
  },
  {
   "cell_type": "code",
   "execution_count": 2,
   "id": "e492700a",
   "metadata": {},
   "outputs": [
    {
     "data": {
      "text/plain": [
       "5"
      ]
     },
     "execution_count": 2,
     "metadata": {},
     "output_type": "execute_result"
    }
   ],
   "source": [
    "abs(-5)"
   ]
  },
  {
   "cell_type": "markdown",
   "id": "07fa617d",
   "metadata": {},
   "source": [
    "### Ví dụ: Hàm vẽ hình tròn"
   ]
  },
  {
   "cell_type": "code",
   "execution_count": null,
   "id": "2a2dec85",
   "metadata": {},
   "outputs": [],
   "source": []
  },
  {
   "cell_type": "markdown",
   "id": "c4575e29",
   "metadata": {},
   "source": [
    "## Xây dựng và sử dụng hàm trong python"
   ]
  },
  {
   "cell_type": "markdown",
   "id": "00ac6720",
   "metadata": {},
   "source": [
    "### Hàm say_hello"
   ]
  },
  {
   "cell_type": "code",
   "execution_count": 3,
   "id": "47575691",
   "metadata": {},
   "outputs": [],
   "source": [
    "def say_hello():\n",
    "    print(\"Hello Python\")"
   ]
  },
  {
   "cell_type": "code",
   "execution_count": 4,
   "id": "a6ccd682-b464-4f6b-8f6c-28acf06c936a",
   "metadata": {},
   "outputs": [
    {
     "name": "stdout",
     "output_type": "stream",
     "text": [
      "Hello Python\n"
     ]
    }
   ],
   "source": [
    "say_hello()"
   ]
  },
  {
   "cell_type": "markdown",
   "id": "f9b6f894",
   "metadata": {},
   "source": [
    "### Hàm vẽ cây thông"
   ]
  },
  {
   "cell_type": "code",
   "execution_count": null,
   "id": "0994ceed",
   "metadata": {},
   "outputs": [],
   "source": []
  },
  {
   "attachments": {
    "image.png": {
     "image/png": "[encoded data removed]"
    }
   },
   "cell_type": "markdown",
   "id": "08fa2b6b",
   "metadata": {},
   "source": [
    "### Thực hành: Viết hàm vẽ ra hình ảnh như dưới đây:\n",
    "![image.png](attachment:image.png)"
   ]
  },
  {
   "cell_type": "code",
   "execution_count": 1,
   "id": "b3161e2c",
   "metadata": {},
   "outputs": [],
   "source": [
    "def ve_vong():\n",
    "    import turtle\n",
    "    t = turtle.Turtle()\n",
    "    t.pensize(1) \n",
    "    i = 0\n",
    "    j = 10\n",
    "    k = 0\n",
    "    for i in range(6):\n",
    "        t.penup()\n",
    "        t.goto(0,k)\n",
    "        t.pendown()\n",
    "        t.circle (j)\n",
    "        i += 1\n",
    "        j += 10\n",
    "        k -= 10\n",
    "    \n",
    "    turtle.done()"
   ]
  },
  {
   "cell_type": "code",
   "execution_count": null,
   "id": "8ab66b14-bd7e-42a9-8fab-f75c88f4edaf",
   "metadata": {},
   "outputs": [],
   "source": [
    "ve_vong()"
   ]
  },
  {
   "cell_type": "markdown",
   "id": "77fa1ef1",
   "metadata": {},
   "source": [
    "## doc_string cho hàm"
   ]
  },
  {
   "cell_type": "code",
   "execution_count": null,
   "id": "8dcf448b",
   "metadata": {},
   "outputs": [],
   "source": [
    "# Hàm tính chu vi hình chữ nhật"
   ]
  },
  {
   "cell_type": "code",
   "execution_count": 5,
   "id": "a7dc57e9",
   "metadata": {},
   "outputs": [],
   "source": [
    "# Hàm xếp loại học sinh\n"
   ]
  },
  {
   "cell_type": "markdown",
   "id": "0c5f3f35",
   "metadata": {},
   "source": [
    "## Phạm vi biến"
   ]
  },
  {
   "cell_type": "code",
   "execution_count": 19,
   "id": "b332222c",
   "metadata": {},
   "outputs": [
    {
     "name": "stdout",
     "output_type": "stream",
     "text": [
      "20\n"
     ]
    }
   ],
   "source": [
    "\n",
    "def tim_max(a,b):\n",
    "    if a > b:\n",
    "        gia_tri_max = a\n",
    "    else:\n",
    "        gia_tri_max = b\n",
    "    print(gia_tri_max)\n",
    "\n",
    "num1 = 10\n",
    "num2 = 20\n",
    "tim_max(num1,num2)\n",
    "# print(gia_tri_max)"
   ]
  },
  {
   "cell_type": "markdown",
   "id": "7407e8fe",
   "metadata": {},
   "source": [
    "## Đối số của hàm"
   ]
  },
  {
   "cell_type": "code",
   "execution_count": 1,
   "id": "f5787950",
   "metadata": {},
   "outputs": [],
   "source": [
    "# Hàm tính thể tích hình lập phương\n",
    "def the_tich(side):\n",
    "    the_tich = side **3\n",
    "    print(f\"Thể tích hình lập phương là {the_tich}\")"
   ]
  },
  {
   "cell_type": "code",
   "execution_count": 2,
   "id": "1235d48d-084b-4875-9733-66fd0569beca",
   "metadata": {},
   "outputs": [
    {
     "name": "stdout",
     "output_type": "stream",
     "text": [
      "Thể tích hình lập phương là 125\n"
     ]
    }
   ],
   "source": [
    "the_tich(5)"
   ]
  },
  {
   "cell_type": "code",
   "execution_count": 3,
   "id": "8d1bc23b",
   "metadata": {},
   "outputs": [],
   "source": [
    "# Hàm xếp loại học sinh\n",
    "def xep_loai(van,toan,anh):\n",
    "    trung_binh = (van + toan + anh)/3\n",
    "\n",
    "    if trung_binh >= 8:\n",
    "        print(\"Giỏi\")\n",
    "    else:\n",
    "        print(\"Tốt\")"
   ]
  },
  {
   "cell_type": "code",
   "execution_count": 5,
   "id": "29f8c605-86dc-4d79-845e-076456ae8531",
   "metadata": {},
   "outputs": [
    {
     "name": "stdout",
     "output_type": "stream",
     "text": [
      "Giỏi\n"
     ]
    }
   ],
   "source": [
    "xep_loai(8,9,8)"
   ]
  },
  {
   "cell_type": "markdown",
   "id": "1eee19a7",
   "metadata": {},
   "source": [
    "### Thực hành: Viết hàm nhận vào một số nguyên và kiểm tra xem số đó có phải là số nguyên tố hay không.\n"
   ]
  },
  {
   "cell_type": "code",
   "execution_count": 1,
   "id": "d3c5d3a9",
   "metadata": {},
   "outputs": [
    {
     "name": "stdout",
     "output_type": "stream",
     "text": [
      "5 là số nguyên tố\n",
      "6 không phải là số nguyên tố\n",
      "7 là số nguyên tố\n"
     ]
    }
   ],
   "source": [
    "def kt_so_nguyen_to(num):\n",
    "    so_nguyen_to = True\n",
    "\n",
    "    for i in range(2,num):\n",
    "        if num % i == 0:\n",
    "            so_nguyen_to = False\n",
    "            break\n",
    "\n",
    "    if so_nguyen_to == True:\n",
    "        print(f\"{num} là số nguyên tố\")\n",
    "    else:\n",
    "        print(f\"{num} không phải là số nguyên tố\")\n",
    "\n",
    "kt_so_nguyen_to(5)\n",
    "kt_so_nguyen_to(6)\n",
    "kt_so_nguyen_to(7)"
   ]
  },
  {
   "cell_type": "markdown",
   "id": "dea3b237",
   "metadata": {},
   "source": [
    "## Đối số có giá trị mặc định"
   ]
  },
  {
   "cell_type": "code",
   "execution_count": 5,
   "id": "8e871a22",
   "metadata": {},
   "outputs": [],
   "source": [
    "def intro(ten,khoa_hoc=\"Python\"):\n",
    "    print(f\"Tôi tên là {ten}. Khoá học của tôi là {khoa_hoc}\")"
   ]
  },
  {
   "cell_type": "code",
   "execution_count": 7,
   "id": "bb44715a",
   "metadata": {},
   "outputs": [
    {
     "name": "stdout",
     "output_type": "stream",
     "text": [
      "Tôi tên là Pháp. Khoá học của tôi là Python\n"
     ]
    }
   ],
   "source": [
    "intro(\"Pháp\")"
   ]
  },
  {
   "cell_type": "code",
   "execution_count": 8,
   "id": "14f89617-fae7-40e7-b462-858585ee3e97",
   "metadata": {},
   "outputs": [
    {
     "name": "stdout",
     "output_type": "stream",
     "text": [
      "Tôi tên là Phap. Khoá học của tôi là Java\n"
     ]
    }
   ],
   "source": [
    "intro(\"Phap\",\"Java\")"
   ]
  },
  {
   "cell_type": "markdown",
   "id": "4cb69485",
   "metadata": {},
   "source": [
    "## Giá trị trả về của hàm"
   ]
  },
  {
   "cell_type": "markdown",
   "id": "e4fac396",
   "metadata": {},
   "source": [
    "\n",
    "# return\n",
    "\n",
    "Cú pháp:\n",
    "\n",
    "`return <giá trị trả về>`\n",
    "\n",
    "##### Lưu ý: Sau khi thực hiện lệnh return, chương trình sẽ thoát khỏi hàm ngay lập tức (những lệnh sau đó không được thực hiện)\n",
    "\n",
    "Ví dụ:\n",
    "\n",
    "Hãy viết 1 hàm trả về giá trị trung bình của 2 số bất kỳ"
   ]
  },
  {
   "cell_type": "code",
   "execution_count": 9,
   "id": "028b09bc",
   "metadata": {},
   "outputs": [
    {
     "name": "stdout",
     "output_type": "stream",
     "text": [
      "5.0\n"
     ]
    }
   ],
   "source": [
    "def gia_tri_tb(num1,num2):\n",
    "    trung_binh = (num1+num2)/2\n",
    "    return trung_binh\n",
    "\n",
    "ket_qua = gia_tri_tb(4,6)\n",
    "print(ket_qua)"
   ]
  },
  {
   "cell_type": "code",
   "execution_count": 12,
   "id": "24592238",
   "metadata": {},
   "outputs": [
    {
     "name": "stdout",
     "output_type": "stream",
     "text": [
      "6\n"
     ]
    }
   ],
   "source": [
    "# Hàm tính chiều dài của chuỗi\n",
    "def tinh_chieu_dai(string):\n",
    "    do_dai = len(string)\n",
    "    return do_dai\n",
    "\n",
    "ket_qua = tinh_chieu_dai(\"Python\")\n",
    "print(ket_qua)"
   ]
  },
  {
   "cell_type": "code",
   "execution_count": 16,
   "id": "56d947d8",
   "metadata": {},
   "outputs": [
    {
     "name": "stdout",
     "output_type": "stream",
     "text": [
      "8\n"
     ]
    }
   ],
   "source": [
    "# Hàm tính lũy thừa\n",
    "def tinh_luy_thua(x, y):\n",
    "    luy_thua = x ** y\n",
    "    return luy_thua\n",
    "\n",
    "ket_qua = tinh_luy_thua(2, 3)\n",
    "print(ket_qua)"
   ]
  },
  {
   "cell_type": "code",
   "execution_count": 17,
   "id": "0178d43e",
   "metadata": {},
   "outputs": [
    {
     "name": "stdin",
     "output_type": "stream",
     "text": [
      "Nhập một năm:  2030\n"
     ]
    },
    {
     "name": "stdout",
     "output_type": "stream",
     "text": [
      "False\n"
     ]
    }
   ],
   "source": [
    "# Hàm kiểm tra năm nhuận\n",
    "def nam_nhuan(nam):\n",
    "    if (nam % 4 == 0 and nam % 100 != 0) or (nam % 400 == 0):\n",
    "        return True\n",
    "    else:\n",
    "        return False\n",
    "\n",
    "nam = int(input(\"Nhập một năm: \"))\n",
    "ket_qua = nam_nhuan(nam)\n",
    "\n",
    "print(ket_qua)"
   ]
  }
 ],
 "metadata": {
  "kernelspec": {
   "display_name": "Python 3 (ipykernel)",
   "language": "python",
   "name": "python3"
  },
  "language_info": {
   "codemirror_mode": {
    "name": "ipython",
    "version": 3
   },
   "file_extension": ".py",
   "mimetype": "text/x-python",
   "name": "python",
   "nbconvert_exporter": "python",
   "pygments_lexer": "ipython3",
   "version": "3.11.4"
  }
 },
 "nbformat": 4,
 "nbformat_minor": 5
}
