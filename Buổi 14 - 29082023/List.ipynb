{
 "cells": [
  {
   "cell_type": "markdown",
   "metadata": {},
   "source": [
    "## Review: type()"
   ]
  },
  {
   "cell_type": "code",
   "execution_count": 1,
   "metadata": {},
   "outputs": [
    {
     "name": "stdout",
     "output_type": "stream",
     "text": [
      "<class 'str'>\n",
      "<class 'int'>\n",
      "<class 'float'>\n",
      "<class 'bool'>\n"
     ]
    }
   ],
   "source": [
    "# Python có 4 kiểu dữ liệu cơ bản\n",
    "print(type(\"Hello\"))\n",
    "print(type(100))\n",
    "print(type(100.05))\n",
    "print(type(True))"
   ]
  },
  {
   "cell_type": "markdown",
   "metadata": {},
   "source": [
    "## list là gì?"
   ]
  },
  {
   "cell_type": "code",
   "execution_count": null,
   "metadata": {},
   "outputs": [],
   "source": [
    "# Ví dụ\n",
    "list_lesson = [\"Kiểu dữ liệu\",\"Nhập Xuât\",\"Biến,kiểu dữ liệu\"]\n",
    "list_diem_trung_binh = [6.5,7.5,8,9]\n",
    "list_bonus = [True,False,True]"
   ]
  },
  {
   "cell_type": "code",
   "execution_count": 7,
   "metadata": {},
   "outputs": [
    {
     "name": "stdout",
     "output_type": "stream",
     "text": [
      "31\n",
      "32\n"
     ]
    }
   ],
   "source": [
    "# Sử dụng list\n",
    "list_info = [\"Phap\",\"Nam\",31,172,64]\n",
    "age = list_info[2]\n",
    "print(age)\n",
    "\n",
    "list_info[2] = 32\n",
    "print(list_info[2])"
   ]
  },
  {
   "cell_type": "markdown",
   "metadata": {},
   "source": [
    "### Thực hành: Viết chương trình tạo ra một list các string khác nhau và đếm tổng số lượng string dài hơn 3 kí tự"
   ]
  },
  {
   "cell_type": "code",
   "execution_count": null,
   "metadata": {},
   "outputs": [],
   "source": []
  },
  {
   "cell_type": "markdown",
   "metadata": {},
   "source": [
    "### Thực hành 2: Viết chương trình nhận vào 2 list và trả về True nếu 2 list có ít nhất 1 phần tử chung, ngược lại trả về False"
   ]
  },
  {
   "cell_type": "code",
   "execution_count": null,
   "metadata": {},
   "outputs": [],
   "source": []
  },
  {
   "cell_type": "markdown",
   "metadata": {},
   "source": [
    "## Các thao tác cơ bản với list"
   ]
  },
  {
   "cell_type": "markdown",
   "metadata": {},
   "source": [
    "### Kiểm tra độ dài list"
   ]
  },
  {
   "cell_type": "code",
   "execution_count": 8,
   "metadata": {},
   "outputs": [
    {
     "name": "stdout",
     "output_type": "stream",
     "text": [
      "6\n"
     ]
    }
   ],
   "source": [
    "list_number = [0,1,2,3,4,5]\n",
    "print(len(list_number))"
   ]
  },
  {
   "cell_type": "markdown",
   "metadata": {},
   "source": [
    "### Truy cập phần tử trên list"
   ]
  },
  {
   "cell_type": "code",
   "execution_count": 13,
   "metadata": {},
   "outputs": [
    {
     "name": "stdout",
     "output_type": "stream",
     "text": [
      "0\n",
      "1\n",
      "2\n",
      "3\n",
      "4\n",
      "6\n"
     ]
    }
   ],
   "source": [
    "list_number = [0,1,2,3,4,6]\n",
    "\n",
    "for i in range(len(list_number)):\n",
    "    print(list_number[i])"
   ]
  },
  {
   "cell_type": "code",
   "execution_count": 14,
   "metadata": {},
   "outputs": [
    {
     "name": "stdout",
     "output_type": "stream",
     "text": [
      "0\n",
      "1\n",
      "2\n",
      "3\n",
      "4\n",
      "6\n"
     ]
    }
   ],
   "source": [
    "for value in list_number:\n",
    "    print(value)\n"
   ]
  },
  {
   "cell_type": "markdown",
   "metadata": {},
   "source": [
    "### Thực hành: Tạo một list 10 số tự nhiên và in ra các phần tử trong list"
   ]
  },
  {
   "cell_type": "code",
   "execution_count": 15,
   "metadata": {},
   "outputs": [
    {
     "name": "stdout",
     "output_type": "stream",
     "text": [
      "1\n",
      "2\n",
      "3\n",
      "4\n",
      "5\n",
      "6\n",
      "8\n",
      "9\n",
      "12\n",
      "15\n"
     ]
    }
   ],
   "source": [
    "so_tu_nhien = [1,2,3,4,5,6,8,9,12,15]\n",
    "\n",
    "for value in so_tu_nhien:\n",
    "    print(value)"
   ]
  },
  {
   "cell_type": "markdown",
   "metadata": {},
   "source": [
    "### Thực hành 2: Tạo ra một list con chưa 2 phần tử cuối cùng từ list đã tạo ở trên"
   ]
  },
  {
   "cell_type": "code",
   "execution_count": 20,
   "metadata": {},
   "outputs": [
    {
     "name": "stdout",
     "output_type": "stream",
     "text": [
      "[12, 15]\n"
     ]
    }
   ],
   "source": [
    "sub_list = so_tu_nhien[-2:]\n",
    "print(sub_list)"
   ]
  },
  {
   "cell_type": "markdown",
   "metadata": {},
   "source": [
    "### Cộng list"
   ]
  },
  {
   "cell_type": "code",
   "execution_count": 23,
   "metadata": {},
   "outputs": [
    {
     "name": "stdout",
     "output_type": "stream",
     "text": [
      "['laptop', 'phone', 'keyboard', 'earphone']\n",
      "['laptop', 'phone', 'keyboard', 'earphone', 'lamp', 'charger']\n",
      "['laptop', 'phone', 'keyboard', 'earphone', 'lamp', 'charger', 'lamp', 'charger']\n"
     ]
    }
   ],
   "source": [
    "list_vat_dung = ['laptop','phone','keyboard']\n",
    "\n",
    "#append\n",
    " # Thêm phần tử vào vị trí cuối cùng trong list\n",
    "list_vat_dung.append('earphone')\n",
    "print(list_vat_dung)\n",
    "\n",
    "#extend\n",
    "#ghép nối 1 list khác vào list hiện tại\n",
    "vat_dung_bo_tro = ['lamp','charger']\n",
    "list_vat_dung.extend(vat_dung_bo_tro)\n",
    "print(list_vat_dung)\n",
    "\n",
    "list_vat_dung += vat_dung_bo_tro\n",
    "print(list_vat_dung)"
   ]
  },
  {
   "cell_type": "markdown",
   "metadata": {},
   "source": [
    "### Thực hành: Thêm học sinh vào lớp"
   ]
  },
  {
   "cell_type": "code",
   "execution_count": 24,
   "metadata": {},
   "outputs": [
    {
     "name": "stdout",
     "output_type": "stream",
     "text": [
      "['Pháp', 'Hoàng', 'Duy', 'Khoa', 'Thức', 'Hiếu', 'Nghĩa']\n"
     ]
    }
   ],
   "source": [
    "list_student = ['Pháp','Hoàng','Duy','Khoa','Thức']\n",
    "new_student = ['Hiếu','Nghĩa']\n",
    "list_student.extend(new_student)\n",
    "print(list_student)"
   ]
  },
  {
   "cell_type": "markdown",
   "metadata": {},
   "source": [
    "### Kiểm tra phần tử tồn tại trong list"
   ]
  },
  {
   "cell_type": "code",
   "execution_count": 26,
   "metadata": {},
   "outputs": [
    {
     "name": "stdout",
     "output_type": "stream",
     "text": [
      "True\n",
      "False\n"
     ]
    }
   ],
   "source": [
    "list_student = ['Pháp','Hoàng','Duy','Khoa','Thức']\n",
    "\n",
    "print('Pháp' in list_student)\n",
    "print('Trúc' in list_student)"
   ]
  },
  {
   "cell_type": "markdown",
   "metadata": {},
   "source": [
    "### Xóa phần tử khỏi list"
   ]
  },
  {
   "cell_type": "code",
   "execution_count": 28,
   "metadata": {},
   "outputs": [
    {
     "name": "stdout",
     "output_type": "stream",
     "text": [
      "['Pháp', 'Hoàng', 'Khoa', 'Thức']\n",
      "['Pháp', 'Khoa', 'Thức']\n"
     ]
    }
   ],
   "source": [
    "list_student = ['Pháp','Hoàng','Duy','Khoa','Thức']\n",
    "\n",
    "#remove xoá giá trị đã dc chỉ định\n",
    "list_student.remove('Duy')\n",
    "print(list_student)\n",
    "\n",
    "#del xoá phần tử tại index đã dc chỉ định trc\n",
    "del list_student[1]\n",
    "print(list_student)"
   ]
  },
  {
   "cell_type": "markdown",
   "metadata": {},
   "source": [
    "### Sắp xếp list"
   ]
  },
  {
   "cell_type": "code",
   "execution_count": 30,
   "metadata": {},
   "outputs": [
    {
     "name": "stdout",
     "output_type": "stream",
     "text": [
      "[0, 3, 4, 5, 6, 7]\n",
      "[7, 6, 5, 4, 3, 0]\n"
     ]
    }
   ],
   "source": [
    "list_mark = [0,5,7,3,4,6]\n",
    "\n",
    "#sắp xếp từ thấp đến cao\n",
    "list_mark.sort()\n",
    "print(list_mark)\n",
    "\n",
    "#từ cao xuống thấp\n",
    "list_mark.sort(reverse=True)\n",
    "print(list_mark)"
   ]
  },
  {
   "cell_type": "markdown",
   "metadata": {},
   "source": [
    "### Làm rỗng list"
   ]
  },
  {
   "cell_type": "code",
   "execution_count": 1,
   "metadata": {},
   "outputs": [
    {
     "name": "stdout",
     "output_type": "stream",
     "text": [
      "['Chuan bi bai', 'Giang day', 'Danh gia']\n",
      "[]\n"
     ]
    }
   ],
   "source": [
    "todo_list = [\"Chuan bi bai\",\"Giang day\",\"Danh gia\"]\n",
    "print(todo_list)\n",
    "\n",
    "todo_list.clear() hoặc # todo.list = []\n",
    "print(todo_list)"
   ]
  },
  {
   "cell_type": "markdown",
   "metadata": {},
   "source": [
    "### Copy list"
   ]
  },
  {
   "cell_type": "code",
   "execution_count": null,
   "metadata": {},
   "outputs": [],
   "source": []
  }
 ],
 "metadata": {
  "kernelspec": {
   "display_name": "Python 3 (ipykernel)",
   "language": "python",
   "name": "python3"
  },
  "language_info": {
   "codemirror_mode": {
    "name": "ipython",
    "version": 3
   },
   "file_extension": ".py",
   "mimetype": "text/x-python",
   "name": "python",
   "nbconvert_exporter": "python",
   "pygments_lexer": "ipython3",
   "version": "3.11.4"
  }
 },
 "nbformat": 4,
 "nbformat_minor": 4
}
