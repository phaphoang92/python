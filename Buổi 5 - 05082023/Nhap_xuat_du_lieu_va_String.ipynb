{
 "cells": [
  {
   "cell_type": "markdown",
   "id": "7ac14915",
   "metadata": {},
   "source": [
    "# Nhập xuất dữ liệu và String\n",
    "## Cách nhập xuất dữ liệu"
   ]
  },
  {
   "cell_type": "markdown",
   "id": "0f202ae8",
   "metadata": {},
   "source": [
    "### Xuất dữ liệu ra màn hình\n",
    "Để in các nội dung mà chúng ta mong muốn ra màn hình, ta sử dụng lệnh print()"
   ]
  },
  {
   "cell_type": "code",
   "execution_count": 1,
   "id": "a6d3f260",
   "metadata": {},
   "outputs": [
    {
     "name": "stdout",
     "output_type": "stream",
     "text": [
      "Python is very easy\n"
     ]
    }
   ],
   "source": [
    "# Ví dụ: In ra nội dung \"python is very easy\"\n",
    "print(\"Python is very easy\")"
   ]
  },
  {
   "cell_type": "markdown",
   "id": "7733925a",
   "metadata": {},
   "source": [
    "### Các cách custom với lệnh print"
   ]
  },
  {
   "cell_type": "markdown",
   "id": "292ab570",
   "metadata": {},
   "source": [
    "Để in một nội dung kèm theo giá trị của biến, ta có các cách sau:"
   ]
  },
  {
   "cell_type": "code",
   "execution_count": 5,
   "id": "20ff912c",
   "metadata": {},
   "outputs": [],
   "source": [
    "food_1 = \"chocolate\"\n",
    "food_2 = \"sandwich\"\n",
    "#\"I love\" --food_1--  \"I hate\" --food_2-- "
   ]
  },
  {
   "cell_type": "code",
   "execution_count": 2,
   "id": "6407a448",
   "metadata": {},
   "outputs": [
    {
     "name": "stdout",
     "output_type": "stream",
     "text": [
      "I love chocolate and I hate sandwich\n"
     ]
    }
   ],
   "source": [
    "# In trực tiếp\n",
    "print(\"I love chocolate and I hate sandwich\")"
   ]
  },
  {
   "cell_type": "code",
   "execution_count": 12,
   "id": "27d098b8",
   "metadata": {},
   "outputs": [
    {
     "name": "stdout",
     "output_type": "stream",
     "text": [
      "I love---chocolate---add I hate---sandwich\n"
     ]
    }
   ],
   "source": [
    "# In bằng cách ghép các nội dung với nhau\n",
    "print(\"I love\",food_1 ,\"add I hate\",food_2,sep=\"---\")\n",
    "#thêm sep=\"\" để thêm ký tự giữa các nội dụng"
   ]
  },
  {
   "cell_type": "code",
   "execution_count": 13,
   "id": "717666f2",
   "metadata": {},
   "outputs": [
    {
     "name": "stdout",
     "output_type": "stream",
     "text": [
      "I love chocolate and I love sandwich\n"
     ]
    }
   ],
   "source": [
    "# Sử dụng String Format\n",
    "print(f\"I love {food_1} and I love {food_2}\")"
   ]
  },
  {
   "cell_type": "code",
   "execution_count": 20,
   "id": "c7276e05",
   "metadata": {},
   "outputs": [
    {
     "name": "stdout",
     "output_type": "stream",
     "text": [
      "I love chocolate and I hate sandwich\n"
     ]
    }
   ],
   "source": [
    "# Sử dụng nhiều lệnh print\n",
    "print(\"I love \", end=\"\")\n",
    "print(food_1, end=\"\")\n",
    "print(\" and I hate \", end=\"\")\n",
    "print(food_2)"
   ]
  },
  {
   "cell_type": "markdown",
   "id": "e10788fb",
   "metadata": {},
   "source": [
    "### Nhập dữ liệu\n",
    "Để nhập dữ liệu vào chương trình python, chúng ta sử dụng hàm input()"
   ]
  },
  {
   "cell_type": "code",
   "execution_count": 22,
   "id": "b8b8afd3",
   "metadata": {},
   "outputs": [
    {
     "name": "stdin",
     "output_type": "stream",
     "text": [
      "Nhập tên:  Phap\n"
     ]
    },
    {
     "name": "stdout",
     "output_type": "stream",
     "text": [
      "Phap\n",
      "<class 'str'>\n"
     ]
    }
   ],
   "source": [
    "name = input(\"Nhập tên: \")\n",
    "print(name)\n",
    "print(type(name))"
   ]
  },
  {
   "cell_type": "code",
   "execution_count": 26,
   "id": "59d6b88b-05ba-451a-adeb-bafe36aa5edf",
   "metadata": {},
   "outputs": [
    {
     "name": "stdin",
     "output_type": "stream",
     "text": [
      "Nhập tháng:  5\n"
     ]
    },
    {
     "name": "stdout",
     "output_type": "stream",
     "text": [
      "5\n",
      "<class 'int'>\n"
     ]
    }
   ],
   "source": [
    "Thang = int(input(\"Nhập tháng: \")) # type casting (int(),float(),bool(),str())\n",
    "print(Thang)\n",
    "print(type(Thang))"
   ]
  },
  {
   "cell_type": "markdown",
   "id": "337f9c15",
   "metadata": {},
   "source": [
    "#### Thực hành: Viết chương trình nhập vào chiều dài và chiều rộng của hình chữ nhật, sau đó in ra chu vi và diện tích của hình chữ nhật đó"
   ]
  },
  {
   "cell_type": "code",
   "execution_count": 28,
   "id": "add68103",
   "metadata": {},
   "outputs": [
    {
     "name": "stdin",
     "output_type": "stream",
     "text": [
      "Nhập chiều rộng:  5\n",
      "Nhập chiều dài:  6\n"
     ]
    }
   ],
   "source": [
    "# Nhập các kích thước của hình chữ nhật\n",
    "a = int(input(\"Nhập chiều rộng: \"))\n",
    "b = int(input(\"Nhập chiều dài: \"))"
   ]
  },
  {
   "cell_type": "code",
   "execution_count": 29,
   "id": "7a1cd73e",
   "metadata": {},
   "outputs": [],
   "source": [
    "# Tính toán chu vi, diện tích\n",
    "P = (a+b)*2\n",
    "S = a*b\n"
   ]
  },
  {
   "cell_type": "code",
   "execution_count": 35,
   "id": "d0adf735",
   "metadata": {},
   "outputs": [
    {
     "name": "stdout",
     "output_type": "stream",
     "text": [
      "Chu vi hình chữ nhật là:  22\n",
      "Diện tích hình chữ nhật là:  30\n",
      "Chu vi hình chữ nhật là: 22 và diện tích hình chữ nhật là: 30\n",
      "Chu vi hình chữ nhật là: 22 và diện tích hình chữ nhật là: 30\n"
     ]
    }
   ],
   "source": [
    "# In kết quả ra màn hình bằng 3 cách\n",
    "\n",
    "\n",
    "# In bằng cách ghép các nội dung với nhau\n",
    "print(\"Chu vi hình chữ nhật là: \",P)\n",
    "print(\"Diện tích hình chữ nhật là: \",S)\n",
    "\n",
    "# Sử dụng String Format\n",
    "print(f\"Chu vi hình chữ nhật là: {P} và diện tích hình chữ nhật là: {S}\")\n",
    "\n",
    "## Sử dụng nhiều lệnh print\n",
    "print(\"Chu vi hình chữ nhật là: \", end=\"\")\n",
    "print(P, end=\"\")\n",
    "print(\" và diện tích hình chữ nhật là: \", end=\"\")\n",
    "print(S)"
   ]
  },
  {
   "cell_type": "markdown",
   "id": "fb54cb77",
   "metadata": {},
   "source": [
    "#### Thực hành: Viết chương trình nhập vào số đo cạnh và mã màu của tam giác đều, sau đó sử dụng turtle để vẽ ra hình tam giác có số đo và màu tương ứng"
   ]
  },
  {
   "cell_type": "code",
   "execution_count": null,
   "id": "7583b308",
   "metadata": {},
   "outputs": [],
   "source": []
  },
  {
   "cell_type": "markdown",
   "id": "fa7cb208",
   "metadata": {},
   "source": [
    "## Cú pháp import"
   ]
  },
  {
   "cell_type": "markdown",
   "id": "ab2a2ea5",
   "metadata": {},
   "source": [
    "Để sử dụng một module từ bên ngoài, chúng ta sẽ sử dụng từ khóa import. Sau đây là ví dụ về một số cách import phổ biến."
   ]
  },
  {
   "cell_type": "markdown",
   "id": "bd6de377",
   "metadata": {},
   "source": [
    "### Random một giá trị ngẫu nhiên"
   ]
  },
  {
   "cell_type": "code",
   "execution_count": null,
   "id": "ce5547f5",
   "metadata": {},
   "outputs": [],
   "source": []
  },
  {
   "cell_type": "markdown",
   "id": "dfa93dc0",
   "metadata": {},
   "source": [
    "### Thực hiện các phép toán số học"
   ]
  },
  {
   "cell_type": "code",
   "execution_count": 8,
   "id": "4f06f722",
   "metadata": {},
   "outputs": [],
   "source": [
    "# import toàn bộ module"
   ]
  },
  {
   "cell_type": "code",
   "execution_count": null,
   "id": "6b9e471b",
   "metadata": {},
   "outputs": [],
   "source": [
    "# import một phần trong module"
   ]
  },
  {
   "cell_type": "markdown",
   "id": "391969e7",
   "metadata": {},
   "source": [
    "## Xử lý String trong python"
   ]
  },
  {
   "cell_type": "markdown",
   "id": "ab461669",
   "metadata": {},
   "source": [
    "### String là gì?\n",
    "String là một chuỗi gồm các ký tự Unicode"
   ]
  },
  {
   "cell_type": "markdown",
   "id": "94a27b90",
   "metadata": {},
   "source": [
    "### Khởi tạo một string"
   ]
  },
  {
   "cell_type": "code",
   "execution_count": 36,
   "id": "b14f4fcc",
   "metadata": {},
   "outputs": [],
   "source": [
    "# one-line string\n",
    "course_name = 'Python Fundamental'"
   ]
  },
  {
   "cell_type": "code",
   "execution_count": 38,
   "id": "9cc506a7",
   "metadata": {},
   "outputs": [
    {
     "name": "stdout",
     "output_type": "stream",
     "text": [
      "Viết chương trình nhập vào một chuỗi bất kỳ, sau đó in ra ký tự đầu tiên và ký tự cuối cùng của chuỗi đó.\n",
      "1.Vi du 1\n",
      "2.Vi du 2\n",
      "3.Vi du 3\n"
     ]
    }
   ],
   "source": [
    "# multi-line string\n",
    "instruction = \"\"\"Viết chương trình nhập vào một chuỗi bất kỳ, sau đó in ra ký tự đầu tiên và ký tự cuối cùng của chuỗi đó.\n",
    "1.Vi du 1\n",
    "2.Vi du 2\n",
    "3.Vi du 3\"\"\"\n",
    "print(instruction)"
   ]
  },
  {
   "cell_type": "markdown",
   "id": "8f4270fd",
   "metadata": {},
   "source": [
    "### Các thao tác phổ biến với string"
   ]
  },
  {
   "cell_type": "code",
   "execution_count": 39,
   "id": "c825f890",
   "metadata": {},
   "outputs": [
    {
     "name": "stdout",
     "output_type": "stream",
     "text": [
      "6\n"
     ]
    }
   ],
   "source": [
    "# Kiểm tra độ dài string\n",
    "content = \"Python\"\n",
    "print(len(content))"
   ]
  },
  {
   "cell_type": "code",
   "execution_count": 43,
   "id": "6de96621",
   "metadata": {},
   "outputs": [
    {
     "name": "stdout",
     "output_type": "stream",
     "text": [
      "X\n",
      "O\n"
     ]
    }
   ],
   "source": [
    "# Truy xuất ký tự bằng cơ chế indexing và reverse indexing\n",
    "content = \"XOXXOOX\"\n",
    "print(content[2]) #indexing đếm từ trái sang ,bắt đầu từ 0\n",
    "print(content[-2]) #reverse indexing từ phải phải sang bắt đầu từ -1"
   ]
  },
  {
   "cell_type": "markdown",
   "id": "a4f949d9",
   "metadata": {},
   "source": [
    "#### Thực hành: Viết chương trình nhập vào một chuỗi bất kỳ, sau đó in ra ký tự đầu tiên và ký tự cuối cùng của chuỗi đó."
   ]
  },
  {
   "cell_type": "code",
   "execution_count": 1,
   "id": "14833f18",
   "metadata": {},
   "outputs": [
    {
     "name": "stdin",
     "output_type": "stream",
     "text": [
      "Nhập nội dung: Hoang\n"
     ]
    },
    {
     "name": "stdout",
     "output_type": "stream",
     "text": [
      "g\n",
      "H\n",
      "ký tự đầu : H\n"
     ]
    }
   ],
   "source": [
    "noi_dung = input(\"Nhập nội dung:\")\n",
    "print(noi_dung[-1])\n",
    "print(noi_dung[0])\n",
    "print(f\"ký tự đầu : {noi_dung[0]}\")"
   ]
  },
  {
   "cell_type": "code",
   "execution_count": 8,
   "id": "9aad2f16",
   "metadata": {},
   "outputs": [
    {
     "name": "stdout",
     "output_type": "stream",
     "text": [
      "+7\n",
      "1,Long,Python\n",
      "Python\n",
      "Pto\n",
      "7+,03:12,03:91,7-5-3,nohtyP,gnoL,1\n"
     ]
    }
   ],
   "source": [
    "# Cắt string theo index\n",
    "content = \"1,Long,Python,3-5-7,19:30,21:30,+7\"\n",
    "print(content[-2:]) #cắt từ -2 đến cuối string\n",
    "print(content[:13]) #cắt từ đầu đến trước 13\n",
    "print(content[7:13])\n",
    "print(content[7:13:2]) #2 cuối cùng giúp nhảy 2 ký tự\n",
    "print(content[::-1]) #giúp đào ngược String từ -1\n"
   ]
  },
  {
   "cell_type": "code",
   "execution_count": 11,
   "id": "6ec63f90",
   "metadata": {},
   "outputs": [
    {
     "name": "stdout",
     "output_type": "stream",
     "text": [
      "HelloPhap\n",
      "HelloHelloHello\n"
     ]
    }
   ],
   "source": [
    "# Ghép chuỗi và lặp chuỗi\n",
    "str1 = \"Hello\"\n",
    "str2 = \"Phap\"\n",
    "print(str1+str2)\n",
    "print(str1*3)"
   ]
  },
  {
   "cell_type": "markdown",
   "id": "84c2dcb9",
   "metadata": {},
   "source": [
    "#### Thực hành: Xử lý và in ra các thông tin tương ứng trong chuỗi"
   ]
  },
  {
   "cell_type": "code",
   "execution_count": 22,
   "id": "cd71f135",
   "metadata": {},
   "outputs": [
    {
     "name": "stdout",
     "output_type": "stream",
     "text": [
      "Python Fundamental\n",
      "3-5-7\n",
      "19:30\n",
      "21:30\n",
      "+7\n"
     ]
    }
   ],
   "source": [
    "content = \"Python Fundamental,3-5-7,19:30,21:30,+7\"\n",
    "course_name = print(content[:18])\n",
    "schedule = print(content[19:24])\n",
    "start_time= print(content[25:30])\n",
    "end_time=  print(content[31:36])\n",
    "GMT= print(content[-2:])"
   ]
  },
  {
   "cell_type": "code",
   "execution_count": 24,
   "id": "67f9726a-6f43-42ad-8eef-8e7da037d43c",
   "metadata": {},
   "outputs": [
    {
     "name": "stdout",
     "output_type": "stream",
     "text": [
      "Cousre_name:Python Fundamental\n",
      "Start time:19:30\n",
      "End time:21:30\n",
      "GMT:+7\n"
     ]
    }
   ],
   "source": [
    "content = \"Python Fundamental,3-5-7,19:30,21:30,+7\"\n",
    "print(\"Cousre_name:\"+content[:18])\n",
    "print(\"Start time:\"+content[25:30])\n",
    "print(\"End time:\"+content[31:36])\n",
    "print(\"GMT:\"+content[-2:])"
   ]
  },
  {
   "cell_type": "markdown",
   "id": "7cbd965f",
   "metadata": {},
   "source": [
    "### Các hàm thông dụng khi xử lý string"
   ]
  },
  {
   "cell_type": "code",
   "execution_count": 25,
   "id": "eb5932a1",
   "metadata": {},
   "outputs": [
    {
     "name": "stdout",
     "output_type": "stream",
     "text": [
      "39\n"
     ]
    }
   ],
   "source": [
    "# len >>Đếm tổng sô ký tự\n",
    "content = \"Python Fundamental,3-5-7,19:30,21:30,+7\"\n",
    "print(len(content))"
   ]
  },
  {
   "cell_type": "code",
   "execution_count": 27,
   "id": "6bef6d33",
   "metadata": {},
   "outputs": [
    {
     "name": "stdout",
     "output_type": "stream",
     "text": [
      "1\n"
     ]
    }
   ],
   "source": [
    "# count >>Đếm số lần xuất hiện của subStr trong một Str\n",
    "content = \"Python Fundamental,3-5-7,19:30,21:30,+7\"\n",
    "print(content.count('e'))"
   ]
  },
  {
   "cell_type": "code",
   "execution_count": 31,
   "id": "1582bbd8",
   "metadata": {},
   "outputs": [
    {
     "name": "stdout",
     "output_type": "stream",
     "text": [
      "HOANG CONG PHAP\n",
      "hoang cong phap\n",
      "Hoang cong phap\n"
     ]
    }
   ],
   "source": [
    "# upper, lower >>Giúp viết hoa và viết thường\n",
    "name = \"Hoang Cong Phap\"\n",
    "print(name.upper())\n",
    "print(name.lower())\n",
    "print(name.capitalize())"
   ]
  },
  {
   "cell_type": "code",
   "execution_count": 33,
   "id": "0d08f708",
   "metadata": {},
   "outputs": [
    {
     "name": "stdout",
     "output_type": "stream",
     "text": [
      "Hoang Cong Phap                \n",
      "              Hoang Cong Phap\n",
      "Hoang Cong Phap\n"
     ]
    }
   ],
   "source": [
    "# lstrip, rstrip, strip\n",
    "name = \"              Hoang Cong Phap                \"\n",
    "print(name.lstrip())\n",
    "print(name.rstrip())\n",
    "print(name.strip())"
   ]
  },
  {
   "cell_type": "code",
   "execution_count": 34,
   "id": "62180d52",
   "metadata": {},
   "outputs": [
    {
     "name": "stdout",
     "output_type": "stream",
     "text": [
      "['Python Fundamental', '3-5-7', '19:30', '21:30', '+7']\n"
     ]
    }
   ],
   "source": [
    "# split\n",
    "content = \"Python Fundamental,3-5-7,19:30,21:30,+7\"\n",
    "print(content.split(','))"
   ]
  },
  {
   "cell_type": "markdown",
   "id": "032ba1fc",
   "metadata": {},
   "source": []
  }
 ],
 "metadata": {
  "kernelspec": {
   "display_name": "Python 3 (ipykernel)",
   "language": "python",
   "name": "python3"
  },
  "language_info": {
   "codemirror_mode": {
    "name": "ipython",
    "version": 3
   },
   "file_extension": ".py",
   "mimetype": "text/x-python",
   "name": "python",
   "nbconvert_exporter": "python",
   "pygments_lexer": "ipython3",
   "version": "3.11.4"
  }
 },
 "nbformat": 4,
 "nbformat_minor": 5
}
