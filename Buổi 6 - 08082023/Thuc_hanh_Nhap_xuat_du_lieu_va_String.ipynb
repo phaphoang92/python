{
 "cells": [
  {
   "cell_type": "markdown",
   "id": "82503791",
   "metadata": {},
   "source": [
    "# Thực hành nhập xuất dữ liệu và String"
   ]
  },
  {
   "cell_type": "markdown",
   "id": "60287ee1",
   "metadata": {},
   "source": [
    "## Bài 1\n",
    "Viết chương trình nhập vào 2 số nguyên `num1` và `num2`. In ra tích của 2 số nguyên đó."
   ]
  },
  {
   "cell_type": "markdown",
   "id": "c5d85e59",
   "metadata": {},
   "source": [
    "Workflow:"
   ]
  },
  {
   "cell_type": "code",
   "execution_count": 14,
   "id": "0b766812",
   "metadata": {},
   "outputs": [
    {
     "name": "stdin",
     "output_type": "stream",
     "text": [
      "Hãy nhập số num1 :  5\n",
      "Hãy nhập số num2 : 4\n"
     ]
    },
    {
     "name": "stdout",
     "output_type": "stream",
     "text": [
      "5/4=20\n"
     ]
    }
   ],
   "source": [
    "num1 = int(input(\"Hãy nhập số num1 : \"))\n",
    "num2 = int(input(\"Hãy nhập số num2 :\"))\n",
    "result = (num1*num2)\n",
    "print(f\"{num1}/{num2}={result}\")"
   ]
  },
  {
   "cell_type": "markdown",
   "id": "89dda208",
   "metadata": {},
   "source": [
    "## Bài 2\n",
    "Viết chương trình nhập vào `name`(tên) của người dùng. In ra nội dung sau: \"Hello --name--\"\n",
    "\n",
    "Ví dụ:\n",
    "name = \"Long\"\n",
    "\n",
    "Kết quả in ra sẽ là:\n",
    "\"Hello Long\""
   ]
  },
  {
   "cell_type": "markdown",
   "id": "88b6254e",
   "metadata": {},
   "source": [
    "Workflow:\n"
   ]
  },
  {
   "cell_type": "code",
   "execution_count": 5,
   "id": "d6000627",
   "metadata": {},
   "outputs": [
    {
     "name": "stdin",
     "output_type": "stream",
     "text": [
      "Hãy nhập tên :  Long\n"
     ]
    },
    {
     "name": "stdout",
     "output_type": "stream",
     "text": [
      "Hello Long\n"
     ]
    }
   ],
   "source": [
    "name = input(\"Hãy nhập tên : \")\n",
    "print(\"Hello \"+name)"
   ]
  },
  {
   "cell_type": "markdown",
   "id": "a5073d2f",
   "metadata": {},
   "source": [
    "## Bài 3\n",
    "Viết chương trình nhập vào 2 số nguyên num1 và num2. In ra thương của 2 số nguyên đó (làm tròn 2 chữ số thập phân)."
   ]
  },
  {
   "cell_type": "markdown",
   "id": "36d7f695",
   "metadata": {},
   "source": [
    "Workflow:"
   ]
  },
  {
   "cell_type": "code",
   "execution_count": 13,
   "id": "f03e79c5",
   "metadata": {},
   "outputs": [
    {
     "name": "stdin",
     "output_type": "stream",
     "text": [
      "Hãy nhập số num1 : 7\n",
      "Hãy nhập số num2 : 3\n"
     ]
    },
    {
     "name": "stdout",
     "output_type": "stream",
     "text": [
      "7/3=2.33\n"
     ]
    }
   ],
   "source": [
    "num1 = int(input(\"Hãy nhập số num1 :\"))\n",
    "num2 = int(input(\"Hãy nhập số num2 :\"))\n",
    "\n",
    "result = round(num1/num2,2)\n",
    "print(f\"{num1}/{num2}={result}\")\n"
   ]
  }
 ],
 "metadata": {
  "kernelspec": {
   "display_name": "Python 3 (ipykernel)",
   "language": "python",
   "name": "python3"
  },
  "language_info": {
   "codemirror_mode": {
    "name": "ipython",
    "version": 3
   },
   "file_extension": ".py",
   "mimetype": "text/x-python",
   "name": "python",
   "nbconvert_exporter": "python",
   "pygments_lexer": "ipython3",
   "version": "3.11.4"
  }
 },
 "nbformat": 4,
 "nbformat_minor": 5
}
