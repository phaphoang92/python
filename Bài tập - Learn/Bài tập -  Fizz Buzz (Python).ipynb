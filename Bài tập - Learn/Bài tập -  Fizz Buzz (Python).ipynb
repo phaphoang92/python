{
 "cells": [
  {
   "cell_type": "code",
   "execution_count": 15,
   "id": "9d548db3-598c-41fa-9974-96eda2208352",
   "metadata": {},
   "outputs": [
    {
     "name": "stdin",
     "output_type": "stream",
     "text": [
      "Nhập hai số bất kỳ cách nhau bằng dấu cách:  :  1,15\n"
     ]
    },
    {
     "name": "stdout",
     "output_type": "stream",
     "text": [
      "1\n",
      "2\n",
      "Fizz\n",
      "4\n",
      "Buzz\n",
      "Fizz\n",
      "7\n",
      "8\n",
      "Fizz\n",
      "Buzz\n",
      "11\n",
      "Fizz\n",
      "13\n",
      "14\n",
      "FizzBuzz\n"
     ]
    }
   ],
   "source": [
    "num = input(\"Nhập hai số bất kỳ cách nhau bằng dấu cách:  : \")\n",
    "num1,num2 = num.split(\",\")\n",
    "so_dau = int(num1)\n",
    "so_sau = int(num2)\n",
    "\n",
    "if so_sau < so_dau:\n",
    "    print(\"Số thứ 2 cần lớn hơn số số thứ nhất\")\n",
    "else:\n",
    "    for i in range(so_dau,so_sau+1):\n",
    "        if i % 3 == 0 and i % 5 == 0:\n",
    "            print(\"FizzBuzz\")\n",
    "        elif i % 3 == 0:\n",
    "            print(\"Fizz\")\n",
    "        elif i % 5 == 0:\n",
    "            print(\"Buzz\")\n",
    "        else:\n",
    "            print(i)"
   ]
  }
 ],
 "metadata": {
  "kernelspec": {
   "display_name": "Python 3 (ipykernel)",
   "language": "python",
   "name": "python3"
  },
  "language_info": {
   "codemirror_mode": {
    "name": "ipython",
    "version": 3
   },
   "file_extension": ".py",
   "mimetype": "text/x-python",
   "name": "python",
   "nbconvert_exporter": "python",
   "pygments_lexer": "ipython3",
   "version": "3.11.4"
  }
 },
 "nbformat": 4,
 "nbformat_minor": 5
}
