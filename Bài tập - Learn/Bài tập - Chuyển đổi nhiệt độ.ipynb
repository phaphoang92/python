{
 "cells": [
  {
   "cell_type": "code",
   "execution_count": 4,
   "id": "664b4eec-7bf5-45ff-a243-ed6eb9cc275f",
   "metadata": {},
   "outputs": [
    {
     "name": "stdin",
     "output_type": "stream",
     "text": [
      "Nhập giá trị độ C : 36.5\n"
     ]
    },
    {
     "name": "stdout",
     "output_type": "stream",
     "text": [
      "Giá trị độ F là : 97.7\n"
     ]
    }
   ],
   "source": [
    "do_C = float(input(\"Nhập giá trị độ C :\"))\n",
    "\n",
    "do_F = (do_C * 1.8) + 32\n",
    "\n",
    "print(\"Giá trị độ F là :\",do_F)"
   ]
  }
 ],
 "metadata": {
  "kernelspec": {
   "display_name": "Python 3 (ipykernel)",
   "language": "python",
   "name": "python3"
  },
  "language_info": {
   "codemirror_mode": {
    "name": "ipython",
    "version": 3
   },
   "file_extension": ".py",
   "mimetype": "text/x-python",
   "name": "python",
   "nbconvert_exporter": "python",
   "pygments_lexer": "ipython3",
   "version": "3.11.4"
  }
 },
 "nbformat": 4,
 "nbformat_minor": 5
}
