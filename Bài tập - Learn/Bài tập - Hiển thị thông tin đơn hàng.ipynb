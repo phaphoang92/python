{
 "cells": [
  {
   "cell_type": "code",
   "execution_count": 4,
   "id": "feec8968-8ee2-4df2-b843-15297d946f87",
   "metadata": {},
   "outputs": [
    {
     "name": "stdin",
     "output_type": "stream",
     "text": [
      "Hãy nhập vào số tiền : 100\n"
     ]
    },
    {
     "name": "stdout",
     "output_type": "stream",
     "text": [
      "Tổng giá trị bạn đã thành toán là :$100.0\n",
      "Bạn được giảm $25 ,số tiền bạn cần thanh toán là :$75.0 \n"
     ]
    }
   ],
   "source": [
    "so_tien = float(input(\"Hãy nhập vào số tiền :\"))\n",
    "\n",
    "print (f\"Tổng giá trị bạn đã thành toán là :${so_tien}\")\n",
    "\n",
    "if so_tien >= 150:\n",
    "    print(f\"Bạn được giảm $50 ,số tiền bạn cần thanh toán là :${so_tien - 50} \")\n",
    "elif so_tien >= 100:\n",
    "    print(f\"Bạn được giảm $25 ,số tiền bạn cần thanh toán là :${so_tien - 25} \")\n",
    "elif so_tien >= 75:\n",
    "    print(f\"Bạn được giảm $15 ,số tiền bạn cần thanh toán là :${so_tien - 15} \")\n",
    "else:\n",
    "    print(f\"Số tiền bạn cần thanh toán là :${so_tien} \")"
   ]
  }
 ],
 "metadata": {
  "kernelspec": {
   "display_name": "Python 3 (ipykernel)",
   "language": "python",
   "name": "python3"
  },
  "language_info": {
   "codemirror_mode": {
    "name": "ipython",
    "version": 3
   },
   "file_extension": ".py",
   "mimetype": "text/x-python",
   "name": "python",
   "nbconvert_exporter": "python",
   "pygments_lexer": "ipython3",
   "version": "3.11.4"
  }
 },
 "nbformat": 4,
 "nbformat_minor": 5
}
