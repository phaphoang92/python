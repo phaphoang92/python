{
 "cells": [
  {
   "cell_type": "code",
   "execution_count": 3,
   "id": "feec8968-8ee2-4df2-b843-15297d946f87",
   "metadata": {},
   "outputs": [
    {
     "name": "stdin",
     "output_type": "stream",
     "text": [
      "Hãy nhập vào một số bất kì : 19384934\n"
     ]
    },
    {
     "name": "stdout",
     "output_type": "stream",
     "text": [
      "Số 19384934 là số chẵn\n"
     ]
    }
   ],
   "source": [
    "num = int(input(\"Hãy nhập vào một số bất kì :\"))\n",
    "\n",
    "if num % 2 == 0:\n",
    "    print(f\"Số {num} là số chẵn\")\n",
    "else:\n",
    "    print(f\"Số {num} là số lẻ\")"
   ]
  }
 ],
 "metadata": {
  "kernelspec": {
   "display_name": "Python 3 (ipykernel)",
   "language": "python",
   "name": "python3"
  },
  "language_info": {
   "codemirror_mode": {
    "name": "ipython",
    "version": 3
   },
   "file_extension": ".py",
   "mimetype": "text/x-python",
   "name": "python",
   "nbconvert_exporter": "python",
   "pygments_lexer": "ipython3",
   "version": "3.11.4"
  }
 },
 "nbformat": 4,
 "nbformat_minor": 5
}
