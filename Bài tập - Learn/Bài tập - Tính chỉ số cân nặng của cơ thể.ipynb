{
 "cells": [
  {
   "cell_type": "code",
   "execution_count": 10,
   "id": "feec8968-8ee2-4df2-b843-15297d946f87",
   "metadata": {},
   "outputs": [
    {
     "name": "stdin",
     "output_type": "stream",
     "text": [
      "Hãy nhập cân nặng (kg): 40\n",
      "Hãy nhập chiều cao (m) : 1.8\n"
     ]
    },
    {
     "name": "stdout",
     "output_type": "stream",
     "text": [
      "Chỉ số BMI của bạn là :12.35 ,bạn thuộc gầy cấp độ III\n"
     ]
    }
   ],
   "source": [
    "can_nang = float(input(\"Hãy nhập cân nặng (kg):\"))\n",
    "chieu_cao = float(input(\"Hãy nhập chiều cao (m) :\"))\n",
    "\n",
    "BMI = round(can_nang / (chieu_cao**2),2)\n",
    "\n",
    "if BMI >= 40:\n",
    "    print(f\"Chỉ số BMI của bạn là :{BMI} ,bạn thuộc béo phì cấp độ III\")\n",
    "elif 35 <= BMI < 40:\n",
    "    print(f\"Chỉ số BMI của bạn là :{BMI} ,bạn thuộc béo phì cấp độ II\")\n",
    "elif 30 <= BMI < 35:\n",
    "    print(f\"Chỉ số BMI của bạn là :{BMI} ,bạn thuộc béo phì cấp độ I\")\n",
    "elif 25 <= BMI <30:\n",
    "    print(f\"Chỉ số BMI của bạn là :{BMI} ,bạn thuộc thừa cân\")\n",
    "elif 18.5 <= BMI < 25:\n",
    "    print(f\"Chỉ số BMI của bạn là :{BMI} ,bạn thuộc bình thường\")\n",
    "elif 17 <= BMI < 18.5:\n",
    "    print(f\"Chỉ số BMI của bạn là :{BMI} ,bạn thuộc gầy cấp độ I\")\n",
    "elif 16 <= BMI < 17:\n",
    "    print(f\"Chỉ số BMI của bạn là :{BMI} ,bạn thuộc gầy cấp độ II\")\n",
    "else:\n",
    "    print(f\"Chỉ số BMI của bạn là :{BMI} ,bạn thuộc gầy cấp độ III\")"
   ]
  }
 ],
 "metadata": {
  "kernelspec": {
   "display_name": "Python 3 (ipykernel)",
   "language": "python",
   "name": "python3"
  },
  "language_info": {
   "codemirror_mode": {
    "name": "ipython",
    "version": 3
   },
   "file_extension": ".py",
   "mimetype": "text/x-python",
   "name": "python",
   "nbconvert_exporter": "python",
   "pygments_lexer": "ipython3",
   "version": "3.11.4"
  }
 },
 "nbformat": 4,
 "nbformat_minor": 5
}
