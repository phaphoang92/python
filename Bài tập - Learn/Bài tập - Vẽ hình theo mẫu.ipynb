{
 "cells": [
  {
   "cell_type": "code",
   "execution_count": null,
   "id": "73b95794-da53-4869-bd5b-42ef092e663d",
   "metadata": {},
   "outputs": [],
   "source": [
    "import turtle\n",
    "import random\n",
    "\n",
    "# Khởi tạo turtle và màn hình vẽ\n",
    "t = turtle.Turtle()\n",
    "screen = turtle.Screen()\n",
    "\n",
    "# Thiết lập màu khác nhau cho bút vẽ\n",
    "colors = ['red', 'green', 'blue', 'purple', 'orange']\n",
    "t.pensize(2)\n",
    "count = 0\n",
    "\n",
    "# Vẽ và thay đổi màu ngẫu nhiên sau mỗi hình\n",
    "while True:\n",
    "    t.circle(100, 90)\n",
    "    t.circle(50, 90)\n",
    "    count += 1\n",
    "    if count ==2:\n",
    "        break\n",
    "    \n",
    "# Đóng màn hình khi kết thúc\n",
    "turtle.done()\n"
   ]
  },
  {
   "cell_type": "code",
   "execution_count": null,
   "id": "93dec673-ca87-4bc0-9ced-33641aaf2f48",
   "metadata": {},
   "outputs": [],
   "source": [
    "import turtle\n",
    "import random\n",
    "\n",
    "# Khởi tạo turtle và màn hình vẽ\n",
    "t = turtle.Turtle()\n",
    "screen = turtle.Screen()\n",
    "\n",
    "# Thiết lập màu khác nhau cho bút vẽ\n",
    "colors = ['red', 'green', 'blue', 'purple', 'orange']\n",
    "t.pensize(2)\n",
    "\n",
    "# Khởi tạo biến góc quay ban đầu\n",
    "angle = 0\n",
    "count = 0\n",
    "\n",
    "# Vẽ hình ellipse với màu và góc quay thay đổi\n",
    "while True:\n",
    "    t.circle(100, 90)\n",
    "    t.circle(50, 90)\n",
    "\n",
    "    if count % 2 != 0:\n",
    "        t.left(angle)\n",
    "        random_color = random.choice(colors)\n",
    "        t.color(random_color)\n",
    "        \n",
    "    angle += 1  # Tăng góc quay\n",
    "    count += 1\n",
    "# Đóng màn hình khi kết thúc\n",
    "turtle.done()\n"
   ]
  }
 ],
 "metadata": {
  "kernelspec": {
   "display_name": "Python 3 (ipykernel)",
   "language": "python",
   "name": "python3"
  },
  "language_info": {
   "codemirror_mode": {
    "name": "ipython",
    "version": 3
   },
   "file_extension": ".py",
   "mimetype": "text/x-python",
   "name": "python",
   "nbconvert_exporter": "python",
   "pygments_lexer": "ipython3",
   "version": "3.11.4"
  }
 },
 "nbformat": 4,
 "nbformat_minor": 5
}
