{
 "cells": [
  {
   "cell_type": "code",
   "execution_count": null,
   "id": "f9e20a86-46cc-4e81-a04d-d7de472065d7",
   "metadata": {},
   "outputs": [
    {
     "name": "stdin",
     "output_type": "stream",
     "text": [
      "Nhập khoảng cách tối đa:  100\n"
     ]
    }
   ],
   "source": [
    "import turtle\n",
    "import math\n",
    "\n",
    "# Khởi tạo turtle và màn hình vẽ\n",
    "t = turtle.Turtle()\n",
    "screen = turtle.Screen()\n",
    "t.speed(200)\n",
    "\n",
    "# Nhập giá trị khoảng cách tối đa\n",
    "khoang_cach_toi_da = float(input(\"Nhập khoảng cách tối đa: \"))\n",
    "\n",
    "# Khởi tạo các biến ban đầu\n",
    "d = 1\n",
    "vong_cong = 30\n",
    "vi_tri_ban_dau = t.pos()\n",
    "\n",
    "# Vẽ đường xoắn ốc\n",
    "while True:\n",
    "    t.forward(d)\n",
    "    t.left(vong_cong)\n",
    "    \n",
    "    # Tăng giá trị d lên một chút\n",
    "    d += 0.1\n",
    "    \n",
    "    # Tính khoảng cách từ điểm hiện tại đến điểm ban đầu\n",
    "    vi_tri_hien_tai = t.pos()\n",
    "    khoang_cach = math.sqrt((vi_tri_hien_tai[0] - vi_tri_ban_dau[0])**2 + (vi_tri_hien_tai[1] - vi_tri_ban_dau[1])**2)\n",
    "    \n",
    "    # Kiểm tra điều kiện thoát khỏi vòng lặp\n",
    "    if khoang_cach > khoang_cach_toi_da:\n",
    "        break\n",
    "\n",
    "# Đóng màn hình khi kết thúc\n",
    "turtle.done()\n"
   ]
  }
 ],
 "metadata": {
  "kernelspec": {
   "display_name": "Python 3 (ipykernel)",
   "language": "python",
   "name": "python3"
  },
  "language_info": {
   "codemirror_mode": {
    "name": "ipython",
    "version": 3
   },
   "file_extension": ".py",
   "mimetype": "text/x-python",
   "name": "python",
   "nbconvert_exporter": "python",
   "pygments_lexer": "ipython3",
   "version": "3.11.4"
  }
 },
 "nbformat": 4,
 "nbformat_minor": 5
}
