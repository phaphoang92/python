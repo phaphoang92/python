{
 "cells": [
  {
   "cell_type": "code",
   "execution_count": 3,
   "id": "d1bebd7d-621a-4eee-b155-6c9afa030482",
   "metadata": {},
   "outputs": [
    {
     "name": "stdin",
     "output_type": "stream",
     "text": [
      "Nhập số tiền : 350000\n",
      "Nhập tỉ giá USD/VND : 23000\n"
     ]
    },
    {
     "name": "stdout",
     "output_type": "stream",
     "text": [
      "Số tiền đô cần đổi là : 350000.0, với tỉ gia = 23000.0 thì số tiền VND là 8050000000.0\n"
     ]
    }
   ],
   "source": [
    "usd = float(input(\"Nhập số tiền :\"))\n",
    "\n",
    "ti_gia = float(input(\"Nhập tỉ giá USD/VND :\"))\n",
    "\n",
    "vnd = usd * ti_gia\n",
    "\n",
    "print(\"Số tiền đô cần đổi là : {usd}, với tỉ gia = {ti_gia} thì số tiền VND là {vnd}\".format(usd=usd, ti_gia=ti_gia, vnd=vnd))"
   ]
  }
 ],
 "metadata": {
  "kernelspec": {
   "display_name": "Python 3 (ipykernel)",
   "language": "python",
   "name": "python3"
  },
  "language_info": {
   "codemirror_mode": {
    "name": "ipython",
    "version": 3
   },
   "file_extension": ".py",
   "mimetype": "text/x-python",
   "name": "python",
   "nbconvert_exporter": "python",
   "pygments_lexer": "ipython3",
   "version": "3.11.4"
  }
 },
 "nbformat": 4,
 "nbformat_minor": 5
}
