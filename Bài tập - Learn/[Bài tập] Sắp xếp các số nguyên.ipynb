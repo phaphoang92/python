{
 "cells": [
  {
   "cell_type": "code",
   "execution_count": 3,
   "id": "0c72869e-69e1-4372-87f0-7f6cb7872c23",
   "metadata": {},
   "outputs": [
    {
     "name": "stdin",
     "output_type": "stream",
     "text": [
      "Nhập số thứ nhất:  1200\n",
      "Nhập số thứ hai:  100\n",
      "Nhập số thứ ba:  250\n"
     ]
    },
    {
     "name": "stdout",
     "output_type": "stream",
     "text": [
      "Các số gốc:  1200 100 250\n",
      "Các số đã sắp xếp:  100 250 1200\n"
     ]
    }
   ],
   "source": [
    "def sap_xep_so(num1, num2, num3):\n",
    "    temp = 0\n",
    "\n",
    "    if num2 < num1 and num2 < num3:\n",
    "        temp = num1\n",
    "        num1 = num2\n",
    "        num2 = temp\n",
    "\n",
    "    elif num3 < num1 and num3 < num2:\n",
    "        temp = num1\n",
    "        num1 = num3\n",
    "        num3 = temp\n",
    "\n",
    "    if num3 < num2:\n",
    "        temp = num2\n",
    "        num2 = num3\n",
    "        num3 = temp\n",
    "\n",
    "    return (num1, num2, num3)\n",
    "\n",
    "x = int(input(\"Nhập số thứ nhất: \"))\n",
    "y = int(input(\"Nhập số thứ hai: \"))\n",
    "z = int(input(\"Nhập số thứ ba: \"))\n",
    "\n",
    "a, b, c = sap_xep_so(x, y, z)\n",
    "\n",
    "print(\"Các số gốc: \", x, y, z) \n",
    "print(\"Các số đã sắp xếp: \", a, b, c)"
   ]
  }
 ],
 "metadata": {
  "kernelspec": {
   "display_name": "Python 3 (ipykernel)",
   "language": "python",
   "name": "python3"
  },
  "language_info": {
   "codemirror_mode": {
    "name": "ipython",
    "version": 3
   },
   "file_extension": ".py",
   "mimetype": "text/x-python",
   "name": "python",
   "nbconvert_exporter": "python",
   "pygments_lexer": "ipython3",
   "version": "3.11.4"
  }
 },
 "nbformat": 4,
 "nbformat_minor": 5
}
