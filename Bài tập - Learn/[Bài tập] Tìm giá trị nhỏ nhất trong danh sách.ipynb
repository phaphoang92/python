{
 "cells": [
  {
   "cell_type": "code",
   "execution_count": 2,
   "id": "b6683d36-e608-4a7e-86da-f3d3f1d5d239",
   "metadata": {},
   "outputs": [
    {
     "name": "stdin",
     "output_type": "stream",
     "text": [
      "Nhập số lượng phần tử trong mảng:  3\n",
      "Nhập phần tử thứ 1:  15\n",
      "Nhập phần tử thứ 2:  25\n",
      "Nhập phần tử thứ 3:  10\n"
     ]
    },
    {
     "name": "stdout",
     "output_type": "stream",
     "text": [
      "Số nhỏ nhất trong mảng:  10\n"
     ]
    }
   ],
   "source": [
    "def tim_so_nho_nhat_trong_mang(numbers):\n",
    "    ket_qua = numbers[0]\n",
    "\n",
    "    for num in numbers:\n",
    "        if ket_qua > num:\n",
    "            ket_qua = num\n",
    "\n",
    "    return ket_qua\n",
    "\n",
    "numbers = []\n",
    "so_luong = int(input(\"Nhập số lượng phần tử trong mảng: \"))\n",
    "\n",
    "for i in range(so_luong):\n",
    "    phan_tu = int(input(f\"Nhập phần tử thứ {i+1}: \"))\n",
    "    numbers.append(phan_tu)\n",
    "\n",
    "min_number = tim_so_nho_nhat_trong_mang(numbers)\n",
    "print(\"Số nhỏ nhất trong mảng: \", min_number)\n"
   ]
  }
 ],
 "metadata": {
  "kernelspec": {
   "display_name": "Python 3 (ipykernel)",
   "language": "python",
   "name": "python3"
  },
  "language_info": {
   "codemirror_mode": {
    "name": "ipython",
    "version": 3
   },
   "file_extension": ".py",
   "mimetype": "text/x-python",
   "name": "python",
   "nbconvert_exporter": "python",
   "pygments_lexer": "ipython3",
   "version": "3.11.4"
  }
 },
 "nbformat": 4,
 "nbformat_minor": 5
}
