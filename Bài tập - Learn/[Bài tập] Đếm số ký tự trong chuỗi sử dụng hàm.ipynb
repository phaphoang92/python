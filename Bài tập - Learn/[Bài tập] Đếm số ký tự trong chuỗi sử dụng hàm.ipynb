{
 "cells": [
  {
   "cell_type": "code",
   "execution_count": 2,
   "id": "3816adf8-3f9c-4a8e-bd82-5281fadacf87",
   "metadata": {},
   "outputs": [
    {
     "name": "stdin",
     "output_type": "stream",
     "text": [
      "Nhập chuỗi của bạn:  sahdbjahsbdjkabsdjkabhdj\n"
     ]
    },
    {
     "name": "stdout",
     "output_type": "stream",
     "text": [
      "Độ dài của chuỗi: 24\n"
     ]
    }
   ],
   "source": [
    "def dem_ky_tu(chuoi):\n",
    "    ket_qua = 0\n",
    "    for ky_tu in chuoi:\n",
    "        ket_qua += 1\n",
    "    return ket_qua\n",
    "\n",
    "chuoi_nhap = input('Nhập chuỗi của bạn: ')\n",
    "\n",
    "print('Độ dài của chuỗi:', dem_ky_tu(chuoi_nhap))"
   ]
  }
 ],
 "metadata": {
  "kernelspec": {
   "display_name": "Python 3 (ipykernel)",
   "language": "python",
   "name": "python3"
  },
  "language_info": {
   "codemirror_mode": {
    "name": "ipython",
    "version": 3
   },
   "file_extension": ".py",
   "mimetype": "text/x-python",
   "name": "python",
   "nbconvert_exporter": "python",
   "pygments_lexer": "ipython3",
   "version": "3.11.4"
  }
 },
 "nbformat": 4,
 "nbformat_minor": 5
}
