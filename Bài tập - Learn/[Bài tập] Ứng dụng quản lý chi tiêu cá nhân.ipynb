{
 "cells": [
  {
   "cell_type": "code",
   "execution_count": null,
   "id": "51a2712d-ca81-4701-81e5-9b6b31d362d0",
   "metadata": {},
   "outputs": [
    {
     "name": "stdout",
     "output_type": "stream",
     "text": [
      "Các khoản chi của bạn: [{'ten': 'Tiền thuê nhà', 'chi_phi': 1000, 'ngay_chi': '2023-09-01'}, {'ten': 'Mua thực phẩm', 'chi_phi': 150, 'ngay_chi': '2023-09-05'}, {'ten': 'Phí di chuyển', 'chi_phi': 50, 'ngay_chi': '2023-09-10'}]\n",
      "Bạn muốn làm gì? -\n",
      "1. Thêm\n",
      "2. Xóa\n"
     ]
    }
   ],
   "source": [
    "def them_muc_chi(myTempList, muc_chi_moi):\n",
    "    myTempList.append(muc_chi_moi)\n",
    "\n",
    "def tim_index_muc_chi(myTempList, ten_muc_chi):\n",
    "    ket_qua = -1\n",
    "    do_dai = len(myTempList)\n",
    "    for i in range(do_dai):\n",
    "        if myTempList[i]['ten'] == ten_muc_chi:\n",
    "            ket_qua = i\n",
    "    return ket_qua\n",
    "\n",
    "def xoa_muc_chi(myTempList, ten_muc_chi):\n",
    "    if tim_index_muc_chi(myTempList, ten_muc_chi) > -1:\n",
    "        del myTempList[tim_index_muc_chi(myTempList, ten_muc_chi)]\n",
    "    else:\n",
    "        print(ten_muc_chi + \" không tồn tại trong danh sách\")\n",
    "\n",
    "chi_tieu = [\n",
    "    {'ten': 'Tiền thuê nhà', 'chi_phi': 1000, 'ngay_chi': '2023-09-01'},\n",
    "    {'ten': 'Mua thực phẩm', 'chi_phi': 150, 'ngay_chi': '2023-09-05'},\n",
    "    {'ten': 'Phí di chuyển', 'chi_phi': 50, 'ngay_chi': '2023-09-10'}\n",
    "]\n",
    "\n",
    "print(\"Các khoản chi của bạn:\", chi_tieu)\n",
    "\n",
    "print(\"Bạn muốn làm gì? -\\n\"\\\n",
    "        \"1. Thêm\\n\" \\\n",
    "        \"2. Xóa\")\n",
    "\n",
    "lua_chon = int(input(\"Chọn tùy chọn 1 hoặc 2: \"))\n",
    "\n",
    "ten_muc_chi_input = input(\"Tên mục chi: \")\n",
    "\n",
    "if lua_chon == 1:\n",
    "    chi_phi_input = int(input(\"Chi phí: \"))\n",
    "    ngay_chi_input = input(\"Ngày chi: \")\n",
    "    muc_chi_moi = {'ten': ten_muc_chi_input, 'chi_phi': chi_phi_input, 'ngay_chi': ngay_chi_input}\n",
    "    them_muc_chi(chi_tieu, muc_chi_moi)\n",
    "    print(\"Các khoản chi của bạn: \", chi_tieu)\n",
    "elif lua_chon == 2:\n",
    "    xoa_muc_chi(chi_tieu, ten_muc_chi_input)\n",
    "    print(\"Các khoản chi của bạn: \", chi_tieu)\n",
    "else:\n",
    "    print(\"Đầu vào không hợp lệ\")\n"
   ]
  }
 ],
 "metadata": {
  "kernelspec": {
   "display_name": "Python 3 (ipykernel)",
   "language": "python",
   "name": "python3"
  },
  "language_info": {
   "codemirror_mode": {
    "name": "ipython",
    "version": 3
   },
   "file_extension": ".py",
   "mimetype": "text/x-python",
   "name": "python",
   "nbconvert_exporter": "python",
   "pygments_lexer": "ipython3",
   "version": "3.11.4"
  }
 },
 "nbformat": 4,
 "nbformat_minor": 5
}
