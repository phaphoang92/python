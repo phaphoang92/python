{
 "cells": [
  {
   "cell_type": "code",
   "execution_count": null,
   "id": "1b7705b3",
   "metadata": {},
   "outputs": [],
   "source": [
    "\"\"\"\n",
    "Viết class NhanVien gồm các thuộc tính:\n",
    "+ Tên\n",
    "+ Tuổi\n",
    "+ Địa chỉ\n",
    "+ Tiền lương\n",
    "+ Tổng số giờ làm\n",
    "\n",
    "Và các phương thức:\n",
    "- Phương thức __init__()\n",
    "- print_info() : In ra tất cả các thông tin của nhân viên\n",
    "- tinh_thuong(): Tính toán và trả về số tiền thưởng của nhân viên theo công thức sau:\n",
    "Nếu tổng số giờ làm của nhân viên >=200 thì thưởng = lương * 20%\n",
    "Nếu tổng số giờ làm của nhân viên <200 và >=100 thì thưởng = lương * 10%\n",
    "Nếu tổng số giờ làm của nhân viên <100 thì thưởng = 0\n",
    "\"\"\""
   ]
  },
  {
   "cell_type": "code",
   "execution_count": 10,
   "id": "3cf0f41d",
   "metadata": {},
   "outputs": [],
   "source": [
    "class NhanVien:\n",
    "    def __init__(self, ten, tuoi, dia_chi, luong, gio_lam):\n",
    "        self.ten = ten\n",
    "        self.tuoi = tuoi\n",
    "        self.dia_chi = dia_chi\n",
    "        self.luong = luong\n",
    "        self.gio_lam = gio_lam\n",
    "    \n",
    "    def print_info(self):\n",
    "        print(f\"Tên: {self.ten}\")\n",
    "        print(f\"Tuổi: {self.tuoi}\")\n",
    "        print(f\"Địa chỉ: {self.dia_chi}\")\n",
    "        print(f\"Lương: {self.luong}\")\n",
    "        print(f\"Tổng số giờ làm: {self.gio_lam}\")\n",
    "    \n",
    "    def tinh_thuong(self):\n",
    "        if self.gio_lam >= 200:\n",
    "            return self.luong * 0.2\n",
    "        elif 100 <= self.gio_lam < 200:\n",
    "            return self.luong * 0.1\n",
    "        else:\n",
    "            return 0"
   ]
  },
  {
   "cell_type": "code",
   "execution_count": 11,
   "id": "c2e7a174-b14f-4df9-bdac-f92cb95e09b7",
   "metadata": {},
   "outputs": [
    {
     "name": "stdout",
     "output_type": "stream",
     "text": [
      "Tên: Nguyen Van A\n",
      "Tuổi: 30\n",
      "Địa chỉ: 123 Duong ABC\n",
      "Lương: 1000\n",
      "Tổng số giờ làm: 220\n",
      "Tiền thưởng: 200.0\n"
     ]
    }
   ],
   "source": [
    "nhan_vien = NhanVien(\"Nguyen Van A\", 30, \"123 Duong ABC\", 1000, 220)\n",
    "\n",
    "nhan_vien.print_info()\n",
    "\n",
    "thuong = nhan_vien.tinh_thuong()\n",
    "print(f\"Tiền thưởng: {thuong}\")"
   ]
  }
 ],
 "metadata": {
  "kernelspec": {
   "display_name": "Python 3 (ipykernel)",
   "language": "python",
   "name": "python3"
  },
  "language_info": {
   "codemirror_mode": {
    "name": "ipython",
    "version": 3
   },
   "file_extension": ".py",
   "mimetype": "text/x-python",
   "name": "python",
   "nbconvert_exporter": "python",
   "pygments_lexer": "ipython3",
   "version": "3.11.4"
  }
 },
 "nbformat": 4,
 "nbformat_minor": 5
}
