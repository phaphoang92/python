{
 "cells": [
  {
   "cell_type": "code",
   "execution_count": null,
   "id": "a42fa0c7",
   "metadata": {},
   "outputs": [],
   "source": [
    "\"\"\"\n",
    "Tạo class có tên Equation gồm có các thuộc tính và phương thức sau:\n",
    "+ Thuộc tính: number1, number2\n",
    "+ Phương thức:\n",
    "- Phương thức tạo __init()__\n",
    "- print_info(): dùng để hiển thị number1, number2\n",
    "- addition(): dùng để cộng number1, number2\n",
    "- subtract(): trừ number1, number2\n",
    "- multi(): dùng để nhân number1, number2\n",
    "- division(): dùng để chia number1, number2.\n",
    "\n",
    "Sau khi tạo class, khởi tạo một object Equation và in ra kết quả tính toán từ các hàm thực hiện phép tính\n",
    "\"\"\""
   ]
  },
  {
   "cell_type": "code",
   "execution_count": 1,
   "id": "4397c31e-209c-4dbb-a063-a5cab8c0a12e",
   "metadata": {},
   "outputs": [],
   "source": [
    "class Equation:\n",
    "    def __init__(self, number1, number2):\n",
    "        self.number1 = number1\n",
    "        self.number2 = number2\n",
    "\n",
    "    def print_info(self):\n",
    "        print(f\"Number 1: {self.number1}\")\n",
    "        print(f\"Number 2: {self.number2}\")\n",
    "    \n",
    "    def addition(self):\n",
    "        return self.number1 + self.number2\n",
    "    \n",
    "    def subtract(self):\n",
    "        return self.number1 - self.number2\n",
    "    \n",
    "    def multi(self):\n",
    "        return self.number1 * self.number2\n",
    "    \n",
    "    def division(self):\n",
    "        return self.number1 / self.number2\n"
   ]
  },
  {
   "cell_type": "code",
   "execution_count": 2,
   "id": "c530ab65-fcd8-4d98-be77-995dfe2a138d",
   "metadata": {},
   "outputs": [
    {
     "name": "stdout",
     "output_type": "stream",
     "text": [
      "Number 1: 10\n",
      "Number 2: 5\n",
      "Tổng: 15\n",
      "Hiệu: 5\n",
      "Tích: 50\n",
      "Thương: 2.0\n"
     ]
    }
   ],
   "source": [
    "equation = Equation(10, 5)\n",
    "\n",
    "equation.print_info()\n",
    "\n",
    "print(f\"Tổng: {equation.addition()}\")\n",
    "print(f\"Hiệu: {equation.subtract()}\")\n",
    "print(f\"Tích: {equation.multi()}\")\n",
    "print(f\"Thương: {equation.division()}\")"
   ]
  }
 ],
 "metadata": {
  "kernelspec": {
   "display_name": "Python 3 (ipykernel)",
   "language": "python",
   "name": "python3"
  },
  "language_info": {
   "codemirror_mode": {
    "name": "ipython",
    "version": 3
   },
   "file_extension": ".py",
   "mimetype": "text/x-python",
   "name": "python",
   "nbconvert_exporter": "python",
   "pygments_lexer": "ipython3",
   "version": "3.11.4"
  }
 },
 "nbformat": 4,
 "nbformat_minor": 5
}
