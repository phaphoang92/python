{
 "cells": [
  {
   "cell_type": "code",
   "execution_count": 3,
   "id": "5099a987-8a92-44ec-b689-589eb99629d2",
   "metadata": {},
   "outputs": [
    {
     "name": "stdout",
     "output_type": "stream",
     "text": [
      "Hello World\n"
     ]
    }
   ],
   "source": [
    "print('Hello World')"
   ]
  },
  {
   "cell_type": "code",
   "execution_count": null,
   "id": "7934c9cb-50d8-4ea8-a13a-80fd77c32172",
   "metadata": {},
   "outputs": [],
   "source": []
  },
  {
   "cell_type": "markdown",
   "id": "f6375577-9d17-42c7-95d0-63b191e91eed",
   "metadata": {},
   "source": [
    "Phím tắt\n",
    "b thêm Cell\n",
    "dd xoá Cell\n",
    "a thêm Cell bên trên"
   ]
  },
  {
   "cell_type": "code",
   "execution_count": null,
   "id": "8f511c1b-5aa2-4c90-a6c3-afcf8fb161f7",
   "metadata": {},
   "outputs": [],
   "source": []
  }
 ],
 "metadata": {
  "kernelspec": {
   "display_name": "Python 3 (ipykernel)",
   "language": "python",
   "name": "python3"
  },
  "language_info": {
   "codemirror_mode": {
    "name": "ipython",
    "version": 3
   },
   "file_extension": ".py",
   "mimetype": "text/x-python",
   "name": "python",
   "nbconvert_exporter": "python",
   "pygments_lexer": "ipython3",
   "version": "3.11.4"
  }
 },
 "nbformat": 4,
 "nbformat_minor": 5
}
