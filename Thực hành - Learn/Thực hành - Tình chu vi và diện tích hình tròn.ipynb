{
 "cells": [
  {
   "cell_type": "code",
   "execution_count": null,
   "id": "ee5d1586-c5e0-4e74-ba0a-5eb87ee2e4d3",
   "metadata": {},
   "outputs": [
    {
     "name": "stdin",
     "output_type": "stream",
     "text": [
      "Hãy nhập bán kính:  120\n"
     ]
    },
    {
     "name": "stdout",
     "output_type": "stream",
     "text": [
      "Chu vi của hình tròn có bán kính = 120 là 753.9822368615503\n",
      "Diện tích của hình tròn có bán kính = 120 là 45238.93421169302\n"
     ]
    }
   ],
   "source": [
    "import turtle\n",
    "import math\n",
    "\n",
    "ban_kinh = int(input(\"Hãy nhập bán kính: \"))\n",
    "\n",
    "chu_vi = 2 * math.pi * ban_kinh\n",
    "dien_tich = math.pi * ban_kinh * ban_kinh\n",
    "\n",
    "print(\"Chu vi của hình tròn có bán kính = {ban_kinh} là {chu_vi}\".format(ban_kinh=ban_kinh, chu_vi=chu_vi))\n",
    "print(\"Diện tích của hình tròn có bán kính = {ban_kinh} là {dien_tich}\".format(ban_kinh=ban_kinh, dien_tich=dien_tich))\n",
    "\n",
    "t = turtle.Turtle()\n",
    "t.hideturtle()\n",
    "t.pensize(1)\n",
    "t.color(\"red\")\n",
    "t.circle(ban_kinh)\n",
    "turtle.done()\n",
    "\n"
   ]
  }
 ],
 "metadata": {
  "kernelspec": {
   "display_name": "Python 3 (ipykernel)",
   "language": "python",
   "name": "python3"
  },
  "language_info": {
   "codemirror_mode": {
    "name": "ipython",
    "version": 3
   },
   "file_extension": ".py",
   "mimetype": "text/x-python",
   "name": "python",
   "nbconvert_exporter": "python",
   "pygments_lexer": "ipython3",
   "version": "3.11.4"
  }
 },
 "nbformat": 4,
 "nbformat_minor": 5
}
