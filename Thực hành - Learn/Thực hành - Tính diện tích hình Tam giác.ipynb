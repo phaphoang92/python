{
 "cells": [
  {
   "cell_type": "code",
   "execution_count": 4,
   "id": "95447672-8be9-401b-9d34-8dbcb12f713a",
   "metadata": {},
   "outputs": [
    {
     "name": "stdin",
     "output_type": "stream",
     "text": [
      "Nhập chiều dài cạnh a:  9\n",
      "Nhập chiều dài cạnh b:  9\n",
      "Nhập chiều dài cạnh c:  9\n"
     ]
    },
    {
     "name": "stdout",
     "output_type": "stream",
     "text": [
      "Diện tích hình tam giác là :  35.074028853269766\n"
     ]
    }
   ],
   "source": [
    "import math\n",
    "\n",
    "a = float(input(\"Nhập chiều dài cạnh a: \"))\n",
    "b = float(input(\"Nhập chiều dài cạnh b: \"))\n",
    "c = float(input(\"Nhập chiều dài cạnh c: \"))\n",
    "\n",
    "s = (a+b+c)/2\n",
    "#math.sqrt là hàm tính căn bậc hai\n",
    "area = math.sqrt(s*(s-a)*(s-b)*(s-c))\n",
    "\n",
    "print(\"Diện tích hình tam giác là : \", area)"
   ]
  }
 ],
 "metadata": {
  "kernelspec": {
   "display_name": "Python 3 (ipykernel)",
   "language": "python",
   "name": "python3"
  },
  "language_info": {
   "codemirror_mode": {
    "name": "ipython",
    "version": 3
   },
   "file_extension": ".py",
   "mimetype": "text/x-python",
   "name": "python",
   "nbconvert_exporter": "python",
   "pygments_lexer": "ipython3",
   "version": "3.11.4"
  }
 },
 "nbformat": 4,
 "nbformat_minor": 5
}
