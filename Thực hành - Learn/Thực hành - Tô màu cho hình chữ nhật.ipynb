{
 "cells": [
  {
   "cell_type": "code",
   "execution_count": null,
   "id": "7c8a2489-88b2-49c6-934b-f679750fc345",
   "metadata": {},
   "outputs": [
    {
     "name": "stdin",
     "output_type": "stream",
     "text": [
      "Nhập màu hoặc mã màu:  yellow\n",
      "Nhập chiều dài hình chữ nhật:  200\n",
      "Nhập chiều rộng hình chữ nhật:  150\n"
     ]
    },
    {
     "name": "stdout",
     "output_type": "stream",
     "text": [
      "Chu vi của hình chữ nhật (dài = 200.0, rộng = 150.0) là 700.0\n",
      "Diện tích của hình chữ nhật (dài = 200.0, rộng = 150.0) là 30000.0\n"
     ]
    }
   ],
   "source": [
    "import turtle\n",
    "\n",
    "mau = input(\"Nhập màu hoặc mã màu: \")\n",
    "chieu_dai = float(input(\"Nhập chiều dài hình chữ nhật: \"))\n",
    "chieu_rong = float(input(\"Nhập chiều rộng hình chữ nhật: \"))\n",
    "\n",
    "chu_vi = 2 * (chieu_dai + chieu_rong)\n",
    "dien_tich = chieu_dai * chieu_rong\n",
    "\n",
    "print(\"Chu vi của hình chữ nhật (dài = {chieu_dai}, rộng = {chieu_rong}) là {chu_vi}\".format(chieu_dai=chieu_dai, chieu_rong=chieu_rong, chu_vi=chu_vi))\n",
    "print(\"Diện tích của hình chữ nhật (dài = {chieu_dai}, rộng = {chieu_rong}) là {dien_tich}\".format(chieu_dai=chieu_dai, chieu_rong=chieu_rong, dien_tich=dien_tich))\n",
    "\n",
    "\n",
    "t = turtle.Turtle()\n",
    "t.hideturtle()\n",
    "\n",
    "t.color(mau)\n",
    "t.begin_fill()\n",
    "\n",
    "t.forward(chieu_dai)\n",
    "t.right(90)\n",
    "\n",
    "t.forward(chieu_rong)\n",
    "t.right(90)\n",
    "\n",
    "t.forward(chieu_dai)\n",
    "t.right(90)\n",
    "\n",
    "t.forward(chieu_rong)\n",
    "t.end_fill()\n",
    "\n",
    "turtle.done()"
   ]
  }
 ],
 "metadata": {
  "kernelspec": {
   "display_name": "Python 3 (ipykernel)",
   "language": "python",
   "name": "python3"
  },
  "language_info": {
   "codemirror_mode": {
    "name": "ipython",
    "version": 3
   },
   "file_extension": ".py",
   "mimetype": "text/x-python",
   "name": "python",
   "nbconvert_exporter": "python",
   "pygments_lexer": "ipython3",
   "version": "3.11.4"
  }
 },
 "nbformat": 4,
 "nbformat_minor": 5
}
