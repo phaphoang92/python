{
 "cells": [
  {
   "cell_type": "code",
   "execution_count": 1,
   "id": "b8c7a189-5fac-44c0-aeaf-c932e80c20dd",
   "metadata": {},
   "outputs": [],
   "source": [
    "import turtle \n",
    "t = turtle.Turtle()\n",
    " \n",
    "m = 100;\n",
    "n = 150;\n",
    " \n",
    "t.forward(m) \n",
    "t.left(90)   \n",
    " \n",
    "t.forward(n) \n",
    "t.left(90)  \n",
    " \n",
    "t.forward(m) \n",
    "t.left(90)  \n",
    "\n",
    "t.forward(n)\n",
    "t.left(90)   \n",
    "\n",
    "turtle.done()"
   ]
  }
 ],
 "metadata": {
  "kernelspec": {
   "display_name": "Python 3 (ipykernel)",
   "language": "python",
   "name": "python3"
  },
  "language_info": {
   "codemirror_mode": {
    "name": "ipython",
    "version": 3
   },
   "file_extension": ".py",
   "mimetype": "text/x-python",
   "name": "python",
   "nbconvert_exporter": "python",
   "pygments_lexer": "ipython3",
   "version": "3.11.4"
  }
 },
 "nbformat": 4,
 "nbformat_minor": 5
}
