{
 "cells": [
  {
   "cell_type": "code",
   "execution_count": 1,
   "id": "b8c7a189-5fac-44c0-aeaf-c932e80c20dd",
   "metadata": {},
   "outputs": [],
   "source": [
    "import turtle\n",
    "\n",
    "\n",
    "turtle.pensize(5) \n",
    " \n",
    "turtle.pencolor(\"red\") \n",
    "\n",
    "turtle.Turtle().goto(-40, 120)\n",
    "\n",
    "turtle.fillcolor (\"red\")\n",
    "turtle.begin_fill()\n",
    "\n",
    "turtle.circle (200)\n",
    "turtle.end_fill()\n",
    "\n",
    "turtle.done()"
   ]
  }
 ],
 "metadata": {
  "kernelspec": {
   "display_name": "Python 3 (ipykernel)",
   "language": "python",
   "name": "python3"
  },
  "language_info": {
   "codemirror_mode": {
    "name": "ipython",
    "version": 3
   },
   "file_extension": ".py",
   "mimetype": "text/x-python",
   "name": "python",
   "nbconvert_exporter": "python",
   "pygments_lexer": "ipython3",
   "version": "3.11.4"
  }
 },
 "nbformat": 4,
 "nbformat_minor": 5
}
