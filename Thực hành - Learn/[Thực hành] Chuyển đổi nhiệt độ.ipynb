{
 "cells": [
  {
   "cell_type": "code",
   "execution_count": 1,
   "id": "e3ad679c-882d-47b2-ae42-f9cffb854ffe",
   "metadata": {},
   "outputs": [
    {
     "name": "stdout",
     "output_type": "stream",
     "text": [
      "23.333333333333332\n",
      "37.77777777777778\n",
      "0.0\n"
     ]
    }
   ],
   "source": [
    "def chuyen_doi_do_F_sang_do_C(f):\n",
    "    return (f - 32) / 1.8\n",
    "\n",
    "print(chuyen_doi_do_F_sang_do_C(74))\n",
    "print(chuyen_doi_do_F_sang_do_C(100))\n",
    "print(chuyen_doi_do_F_sang_do_C(32))\n"
   ]
  }
 ],
 "metadata": {
  "kernelspec": {
   "display_name": "Python 3 (ipykernel)",
   "language": "python",
   "name": "python3"
  },
  "language_info": {
   "codemirror_mode": {
    "name": "ipython",
    "version": 3
   },
   "file_extension": ".py",
   "mimetype": "text/x-python",
   "name": "python",
   "nbconvert_exporter": "python",
   "pygments_lexer": "ipython3",
   "version": "3.11.4"
  }
 },
 "nbformat": 4,
 "nbformat_minor": 5
}
