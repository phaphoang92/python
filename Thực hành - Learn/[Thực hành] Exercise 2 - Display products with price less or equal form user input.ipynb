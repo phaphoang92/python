{
 "cells": [
  {
   "cell_type": "code",
   "execution_count": 1,
   "id": "8a46fe96-0f40-4139-9f8c-1fa59b918cc9",
   "metadata": {},
   "outputs": [
    {
     "name": "stdin",
     "output_type": "stream",
     "text": [
      "Enter the price : 1000\n"
     ]
    },
    {
     "name": "stdout",
     "output_type": "stream",
     "text": [
      "SMART WATCH  :  550\n",
      "PHONE  :  1000\n",
      "PLAYSTATION  :  500\n",
      "MUSIC PLAYER  :  600\n",
      "TABLET  :  400\n"
     ]
    }
   ],
   "source": [
    "products = {\n",
    "            'SMART WATCH': 550,\n",
    "            'PHONE' : 1000,\n",
    "            'PLAYSTATION': 500,\n",
    "            'LAPTOP' : 1550,\n",
    "            'MUSIC PLAYER' : 600,\n",
    "            'TABLET' : 400 \n",
    "           }\n",
    "\n",
    "def display_product(products_db, price):\n",
    "    for item in products_db:\n",
    "        if products_db[item] <= price:\n",
    "            print(item, \" : \",products_db[item])\n",
    "    \n",
    "input_price = int(input(\"Enter the price :\"))\n",
    "\n",
    "display_product(products, input_price)"
   ]
  }
 ],
 "metadata": {
  "kernelspec": {
   "display_name": "Python 3 (ipykernel)",
   "language": "python",
   "name": "python3"
  },
  "language_info": {
   "codemirror_mode": {
    "name": "ipython",
    "version": 3
   },
   "file_extension": ".py",
   "mimetype": "text/x-python",
   "name": "python",
   "nbconvert_exporter": "python",
   "pygments_lexer": "ipython3",
   "version": "3.11.4"
  }
 },
 "nbformat": 4,
 "nbformat_minor": 5
}
